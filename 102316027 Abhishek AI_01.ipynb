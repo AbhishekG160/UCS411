{
 "cells": [
  {
   "cell_type": "markdown",
   "id": "4ac6a27b-6f18-417a-a1e7-4e5866056687",
   "metadata": {},
   "source": [
    "**1: ** A class with 10 students wants to produce some information from the results of the four standard \n",
    "tests in Maths, Science, English and IT. Each test is out of 100 marks. The information output \n",
    "should be the highest, lowest and average mark for each test and the highest, lowest and average \n",
    "mark overall. Write a program in Python to complete this task. "
   ]
  },
  {
   "cell_type": "code",
   "execution_count": 1,
   "id": "0a732a70-f96f-42a4-a0a5-f3913689d52b",
   "metadata": {},
   "outputs": [
    {
     "name": "stdout",
     "output_type": "stream",
     "text": [
      "Maths: Highest=95, Lowest=65, Average=83.7\n",
      "Science: Highest=94, Lowest=75, Average=85.3\n",
      "English: Highest=95, Lowest=75, Average=84.9\n",
      "IT: Highest=94, Lowest=76, Average=85.5\n",
      "Overall: Highest=358, Lowest=319, Average=339.4\n"
     ]
    }
   ],
   "source": [
    "marks = {'Maths': [78, 89, 95, 65, 88, 92, 76, 84, 80, 90], \n",
    "         'Science': [85, 90, 78, 88, 92, 75, 80, 85, 94, 86], \n",
    "         'English': [80, 85, 92, 88, 75, 90, 95, 78, 84, 82], \n",
    "         'IT': [88, 94, 80, 78, 85, 90, 92, 88, 76, 84]}\n",
    "for subject, scores in marks.items():\n",
    "    print(f'{subject}: Highest={max(scores)}, Lowest={min(scores)}, Average={sum(scores)/len(scores)}')\n",
    "overall = [sum(x) for x in zip(*marks.values())]\n",
    "# marks = {\n",
    "#     \"Math\": [85, 90, 78],\n",
    "#     \"Science\": [88, 85, 84],\n",
    "#     \"English\": [92, 80, 76]\n",
    "# }\n",
    "# zip(*marks.values())\n",
    "# Output: [(85, 88, 92), (90, 85, 80), (78, 84, 76)]\n",
    "print(f'Overall: Highest={max(overall)}, Lowest={min(overall)}, Average={sum(overall)/len(overall)}')\n"
   ]
  },
  {
   "cell_type": "markdown",
   "id": "0a84b680-44a4-446e-ad03-ddef8709660f",
   "metadata": {},
   "source": [
    "**2: **  Write a Python Program to input basic salary of an employee and calculate its Gross salary \r\n",
    "according to following: Basic Salary <= 10000 : HRA = 20%, DA = 80% Basic Salary <= 20000 \r\n",
    ": HRA = 25%, DA = 90% Basic Salary > 20000 : HRA = 30%, DA = 95%. "
   ]
  },
  {
   "cell_type": "code",
   "execution_count": 2,
   "id": "4c06140c-4236-48ef-8347-df39bcd636a8",
   "metadata": {},
   "outputs": [
    {
     "name": "stdin",
     "output_type": "stream",
     "text": [
      "Enter Basic Salary:  50000\n"
     ]
    },
    {
     "name": "stdout",
     "output_type": "stream",
     "text": [
      "Gross Salary: 112500.0\n"
     ]
    }
   ],
   "source": [
    "basic_salary = float(input(\"Enter Basic Salary: \"))\n",
    "if basic_salary <= 10000:\n",
    "    hra = 0.2 *basic_salary\n",
    "    da = 0.8 *basic_salary\n",
    "elif basic_salary <= 20000:\n",
    "    hra = 0.25 *basic_salary\n",
    "    da = 0.9 *basic_salary\n",
    "else:\n",
    "    hra = 0.3 *basic_salary\n",
    "    da = 0.95 *basic_salary\n",
    "gross_salary = basic_salary+hra+da\n",
    "print(f\"Gross Salary: {gross_salary}\")"
   ]
  },
  {
   "cell_type": "markdown",
   "id": "bad37027-c81b-43b0-9e39-84474ca0983e",
   "metadata": {},
   "source": [
    "**3: ** Write a Python program to check the validity of password input by users.  \n",
    "Validation:  \n",
    " At least 1 letter between [a-z] and 1 letter between [A-Z].  \n",
    " At least 1 number between [0-9].  \n",
    " At least 1 character from [$#@].  \n",
    " Minimum length 6 characters.  \n",
    " Maximum length 16 characters.  "
   ]
  },
  {
   "cell_type": "code",
   "execution_count": 3,
   "id": "4f4a6f4c-fe49-479b-8cbd-d30ac371d4d1",
   "metadata": {},
   "outputs": [
    {
     "name": "stdin",
     "output_type": "stream",
     "text": [
      "Enter Password:  abhishek\n"
     ]
    },
    {
     "name": "stdout",
     "output_type": "stream",
     "text": [
      "Password is invalid\n"
     ]
    }
   ],
   "source": [
    "import re\n",
    "password = input(\"Enter Password: \")\n",
    "if (re.search('[a-z]', password) and re.search('[A-Z]', password) and \n",
    "    re.search('[0-9]', password) and re.search('[@#$]', password) and \n",
    "    6 <= len(password) <= 16):\n",
    "    print(\"Password is valid\")\n",
    "else:\n",
    "    print(\"Password is invalid\")\n"
   ]
  },
  {
   "cell_type": "markdown",
   "id": "5a1a6774-4012-421c-9028-c9c58cc6d071",
   "metadata": {},
   "source": [
    "**4: ** Create a List L that is defined as= [10, 20, 30, 40, 50, 60, 70, 80]. \n",
    "(i) WAP to add 200 and 300 to L.  \n",
    "(ii) WAP to remove 10 and 30 from L. \n",
    "(iii) WAP to sort L in ascending order. \n",
    "(iv) WAP to sort L in descending order. "
   ]
  },
  {
   "cell_type": "code",
   "execution_count": 5,
   "id": "c8439d3f-7bad-458b-8049-f3b7c2ed0588",
   "metadata": {},
   "outputs": [
    {
     "name": "stdout",
     "output_type": "stream",
     "text": [
      "[10, 20, 30, 40, 50, 60, 70, 80, 200, 300]\n",
      "[20, 40, 50, 60, 70, 80, 200, 300]\n",
      "[20, 40, 50, 60, 70, 80, 200, 300]\n",
      "[300, 200, 80, 70, 60, 50, 40, 20]\n"
     ]
    }
   ],
   "source": [
    "L = [10, 20, 30, 40, 50, 60, 70, 80]\n",
    "L.append(200)\n",
    "L.append(300)\n",
    "print(L)\n",
    "L = [x for x in L if x!=10 and x!=30]\n",
    "print(L)\n",
    "print(sorted(L))\n",
    "print(sorted(L, reverse=True))"
   ]
  },
  {
   "cell_type": "markdown",
   "id": "ac3be974-c639-4dfa-a5a0-6e10d805af3e",
   "metadata": {},
   "source": [
    "**5: ** D is a dictionary defined as D= {1:”One”, 2:”Two”, 3:”Three”, 4: “Four”, 5:”Five”}. \n",
    "(i) WAP to add new entry in D; key=6 and value is “Six” \n",
    "(ii) WAP to remove key=2. \n",
    "(iii) WAP to check if 6 key is present in D. \n",
    "(iv) WAP to count the number of elements present in D. \n",
    "(v) WAP to add all the values present D. "
   ]
  },
  {
   "cell_type": "code",
   "execution_count": 6,
   "id": "11276ec6-a1a0-420f-9126-8681a0e813be",
   "metadata": {},
   "outputs": [
    {
     "name": "stdout",
     "output_type": "stream",
     "text": [
      "{1: 'One', 2: 'Two', 3: 'Three', 4: 'Four', 5: 'Five', 6: 'Six'}\n",
      "{1: 'One', 3: 'Three', 4: 'Four', 5: 'Five', 6: 'Six'}\n",
      "True\n",
      "5\n",
      "19\n"
     ]
    }
   ],
   "source": [
    "D = {1:\"One\", 2:\"Two\", 3:\"Three\", 4:\"Four\", 5:\"Five\"}\n",
    "D[6] = \"Six\"\n",
    "print(D)\n",
    "D.pop(2, None)\n",
    "print(D)\n",
    "print(6 in D)\n",
    "print(len(D))\n",
    "print(sum(D.keys()))"
   ]
  },
  {
   "cell_type": "markdown",
   "id": "6a4e8db9-7c81-4794-bff8-5d207f823031",
   "metadata": {},
   "source": [
    "**6: ** WAP to create a list of 100 random numbers between 100 and 900. Count and print the:  \n",
    "(i) All odd numbers \n",
    "(ii) All even numbers \n",
    "(iii) All prime numbers "
   ]
  },
  {
   "cell_type": "code",
   "execution_count": null,
   "id": "ba058a4d-8866-48c9-9891-da79d6cfea0a",
   "metadata": {},
   "outputs": [],
   "source": [
    "import random\n",
    "numbers = [random.randint(100, 900) for _ in range(100)]\n",
    "odd = [x for x in numbers if x%2 !=0]\n",
    "even = [x for x in numbers if x%2 ==0]\n",
    "prime = [x for x in numbers if all(x%i !=0 for i in range(2, int(x**0.5)+1))]\n",
    "print(len(odd), len(even), len(prime))"
   ]
  },
  {
   "cell_type": "markdown",
   "id": "ceeed52a-093d-4555-8019-2c48633058ea",
   "metadata": {},
   "source": [
    "**7: ** (i) Write a function which takes principal amount, interest rate and time. This function returns \n",
    "compound interest. Call this function to print the output. \n",
    "(ii) Save this function (as a module) in a python file and call it in another python file"
   ]
  },
  {
   "cell_type": "code",
   "execution_count": 7,
   "id": "27c0423e-7749-4dde-97ce-0fcde460828b",
   "metadata": {},
   "outputs": [
    {
     "name": "stdout",
     "output_type": "stream",
     "text": [
      "11025.0\n"
     ]
    }
   ],
   "source": [
    "def CompInt(principal, rate, time):\n",
    "    return principal*((1+ rate/100)**time)\n",
    "p,r,t = 10000,5,2\n",
    "print(CompInt(p,r,t))"
   ]
  },
  {
   "cell_type": "markdown",
   "id": "4751ff48-681c-4017-8a15-9d96e0d37a67",
   "metadata": {},
   "source": [
    "**8: ** A) Make a class called Restaurant. \n",
    "The __init__() method for Restaurant should store two attributes: a restaurant_name and a cuisine_type. \n",
    "Make a method called describe_restaurant() that prints these two pieces of information, and a method called open_restaurant() that prints a message indicating that the restaurant is open.\n",
    "Make an instance called restaurant from your class. \n",
    "Print the two attributes individually, and then call both methods. \n"
   ]
  },
  {
   "cell_type": "code",
   "execution_count": 14,
   "id": "fc7d3d09-296a-4bb1-b343-8d7eca73b0d1",
   "metadata": {},
   "outputs": [
    {
     "name": "stdout",
     "output_type": "stream",
     "text": [
      "Tasty Bites Indian\n",
      "Restaurant Name: Tasty Bites, Cuisine Type: Indian\n",
      "The restaurant is open.\n"
     ]
    }
   ],
   "source": [
    "class Restaurant:\n",
    "    def __init__(self, restaurant_name, cuisine_type):\n",
    "        self.restaurant_name = restaurant_name\n",
    "        self.cuisine_type = cuisine_type\n",
    "    def describe_restaurant(self):\n",
    "        print(f\"Restaurant Name: {self.restaurant_name}, Cuisine Type: {self.cuisine_type}\")\n",
    "    def open_restaurant(self):\n",
    "        print(\"The restaurant is open.\")\n",
    "restaurant = Restaurant(\"Tasty Bites\", \"Indian\")\n",
    "print(restaurant.restaurant_name, restaurant.cuisine_type)\n",
    "restaurant.describe_restaurant()\n",
    "restaurant.open_restaurant()"
   ]
  },
  {
   "cell_type": "markdown",
   "id": "72ebb315-8c87-47d9-924e-e2da9c685bec",
   "metadata": {},
   "source": [
    "**8: ** B) Make a class called User. \n",
    "Create two attributes called first_name and last_name, and then create several other attributes that are typically stored in a user profile.\n",
    "Make a method called describe_user() that prints a summary of the user’s information.\n",
    "Make another method called greet_user() that prints a personalized greeting to the user. \n",
    "Create several instances representing different users, and call both method for each user."
   ]
  },
  {
   "cell_type": "code",
   "execution_count": 13,
   "id": "684ca1a5-61b3-463d-a18e-cc2b67b86fbe",
   "metadata": {},
   "outputs": [
    {
     "name": "stdout",
     "output_type": "stream",
     "text": [
      "User: Abhishek Gupta, Profile: {'age': 20, 'location': 'FZK'}\n",
      "Hello, Abhishek Gupta!\n",
      "User: Abhi G16, Profile: {'age': 21, 'location': 'Ptl'}\n",
      "Hello, Abhi G16!\n"
     ]
    }
   ],
   "source": [
    "class User:\n",
    "    def __init__(self, fName, lName, **kwargs):\n",
    "        self.first_name = fName\n",
    "        self.last_name = lName\n",
    "        self.profile = kwargs\n",
    "    def describe_user(self):\n",
    "        print(f\"User: {self.first_name} {self.last_name}, Profile: {self.profile}\")\n",
    "    def greet_user(self):\n",
    "        print(f\"Hello, {self.first_name} {self.last_name}!\")\n",
    "user1 = User(\"Abhishek\", \"Gupta\", age=20, location=\"FZK\")\n",
    "user2 = User(\"Abhi\", \"G16\", age=21, location=\"Ptl\")\n",
    "user1.describe_user()\n",
    "user1.greet_user()\n",
    "user2.describe_user()\n",
    "user2.greet_user()"
   ]
  },
  {
   "cell_type": "code",
   "execution_count": null,
   "id": "a83e6f12-5de3-4fd5-8eba-c3040f5787c5",
   "metadata": {},
   "outputs": [],
   "source": []
  }
 ],
 "metadata": {
  "kernelspec": {
   "display_name": "Python 3 (ipykernel)",
   "language": "python",
   "name": "python3"
  },
  "language_info": {
   "codemirror_mode": {
    "name": "ipython",
    "version": 3
   },
   "file_extension": ".py",
   "mimetype": "text/x-python",
   "name": "python",
   "nbconvert_exporter": "python",
   "pygments_lexer": "ipython3",
   "version": "3.12.4"
  }
 },
 "nbformat": 4,
 "nbformat_minor": 5
}
